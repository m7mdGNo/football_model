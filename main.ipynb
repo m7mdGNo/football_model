{
 "cells": [
  {
   "cell_type": "code",
   "execution_count": 2,
   "id": "0048dd1b",
   "metadata": {},
   "outputs": [],
   "source": [
    "import cv2\n",
    "import numpy as np\n",
    "import matplotlib.pyplot as plt\n",
    "import torch\n",
    "import numpy as np\n",
    "from time import time\n",
    "import uuid\n",
    "from tensorflow.keras.models import load_model\n",
    "from tensorflow.keras.preprocessing import image\n",
    "import time\n",
    "import math\n",
    "%matplotlib inline \n"
   ]
  },
  {
   "cell_type": "code",
   "execution_count": 3,
   "id": "3a9df595",
   "metadata": {},
   "outputs": [],
   "source": [
    "import os\n",
    "os.environ[\"CUDA_DEVICE_ORDER\"] = \"PCI_BUS_ID\"   # see issue #152\n",
    "os.environ[\"CUDA_VISIBLE_DEVICES\"] = \"\""
   ]
  },
  {
   "cell_type": "code",
   "execution_count": 4,
   "id": "709ce0f8",
   "metadata": {},
   "outputs": [
    {
     "name": "stderr",
     "output_type": "stream",
     "text": [
      "Using cache found in C:\\Users\\m7mde/.cache\\torch\\hub\\ultralytics_yolov5_master\n",
      "YOLOv5  2022-2-25 torch 1.10.2+cu113 CUDA:0 (NVIDIA GeForce GTX 1050, 3072MiB)\n",
      "\n",
      "Fusing layers... \n",
      "Model Summary: 213 layers, 7225885 parameters, 0 gradients, 16.5 GFLOPs\n",
      "Adding AutoShape... \n"
     ]
    }
   ],
   "source": [
    "yolo = torch.hub.load('ultralytics/yolov5', 'yolov5s', pretrained=True)\n",
    "model = load_model('model3.h5')\n"
   ]
  },
  {
   "cell_type": "code",
   "execution_count": 9,
   "id": "9997285a",
   "metadata": {},
   "outputs": [],
   "source": [
    "def detect(yolo,img):\n",
    "    results = yolo(img)\n",
    "    labels, cord,wh = results.xyxyn[0][:, -1], results.xywhn[0][:, :-1],results.xyxyn[0][:, :-1]\n",
    "    classes = yolo.names\n",
    "    n = len(labels)\n",
    "    x_shape, y_shape = img.shape[1], img.shape[0]\n",
    "    players = []\n",
    "   \n",
    "    for i in range(n):\n",
    "        row = cord[i]\n",
    "        jj = wh[i]\n",
    "        if row[4] and jj[4] >= 0.1:\n",
    "            x, y, w, h = int(row[0]*x_shape), int(row[1]*y_shape), int(row[2]*x_shape), int(row[3]*y_shape)\n",
    "            x1,y1,x2,y2 = int(jj[0]*x_shape), int(jj[1]*y_shape), int(jj[2]*x_shape), int(jj[3]*y_shape)\n",
    "            \n",
    "            label = classes[int(labels[i])]\n",
    "            if label == 'person':\n",
    "                new = img[y1:y2,x1:x2]\n",
    "                players.append([x1,y1,w,h])\n",
    "            if label == 'sports ball':\n",
    "                cv2.rectangle(img, (x1, y1), (x1+w, y1+h), (0,0,0), 2)\n",
    "    return img,players\n",
    "\n",
    "def plane(cords_in_plane,players_frame,players_cords,frame,model):\n",
    "    coptemp=cv2.imread('plane.jpg')\n",
    "    pts1 = np.float32([[530,286],[530,101],[133,101],[133,286]])\n",
    "    pts2 = np.float32([[1708,398],[1405,146],[513,146],[212,398]])\n",
    "    matrix = cv2.getPerspectiveTransform(pts2,pts1)\n",
    "    \n",
    "    for i in range(len(cords_in_plane)):\n",
    "        pts3 = np.float32([cords_in_plane[i]])\n",
    "        pts3o=cv2.perspectiveTransform(pts3[None, :, :],matrix)\n",
    "        x1=int(pts3o[0][0][0])\n",
    "        y1=int(pts3o[0][0][1])\n",
    "        pp=(x1,y1)\n",
    "        player = players_frame[i]\n",
    "        try:\n",
    "            player = cv2.resize(player,(200,200))\n",
    "            player = np.expand_dims(player,axis=0)\n",
    "            val = model.predict(player)\n",
    "            val = np.argmax(val)\n",
    "            if val == 0:\n",
    "                cv2.circle(coptemp,pp, 7, (0,0,255),-1)\n",
    "                cv2.rectangle(frame, (players_cords[i][0], players_cords[i][1]), (players_cords[i][0]+players_cords[i][2], players_cords[i][1]+players_cords[i][3]), (0,0,255), 1)\n",
    "            elif val == 1:\n",
    "                cv2.circle(coptemp,pp, 7, (255,0,0),-1)\n",
    "                cv2.rectangle(frame, (players_cords[i][0], players_cords[i][1]), (players_cords[i][0]+players_cords[i][2], players_cords[i][1]+players_cords[i][3]), (255,0,0), 1)\n",
    "            else:\n",
    "                pass\n",
    "        except:\n",
    "            continue\n",
    "        cv2.rectangle(frame, (players_cords[i][0], players_cords[i][1]), (players_cords[i][0]+players_cords[i][2], players_cords[i][1]+players_cords[i][3]), (255,0,0), 1)\n",
    "        cv2.circle(coptemp,pp, 7, (255,0,0),-1)\n",
    "\n",
    "    return coptemp,frame"
   ]
  },
  {
   "cell_type": "code",
   "execution_count": 10,
   "id": "3e608649",
   "metadata": {},
   "outputs": [],
   "source": [
    "cap = cv2.VideoCapture('test22.mp4')\n",
    "\n",
    "number_of_splits = 1\n",
    "while True:\n",
    "    ret,frame = cap.read()\n",
    "    players_cords = []\n",
    "    players_frame = [] \n",
    "    cords_in_plane = []\n",
    "    if ret:\n",
    "        cropped = frame[::,::]\n",
    "        h,w,_ = cropped.shape\n",
    "        cropped_w = int(w/number_of_splits)\n",
    "        for i in range(number_of_splits):\n",
    "            new = cropped[::,i*cropped_w:(i+1)*cropped_w]\n",
    "            new,player = detect(yolo,new)\n",
    "            for j in player:\n",
    "                j[0] += i*cropped_w\n",
    "                players_cords.append(j)\n",
    "                \n",
    "        for i in players_cords:\n",
    "            player = frame[i[1]:i[1]+i[3],i[0]:i[0]+i[2]]\n",
    "            players_frame.append(player)\n",
    "            cords = [int((i[0]+i[0]+i[2])/2) ,int((i[1]+i[3]+i[1]+i[3])/2)]\n",
    "            cords_in_plane.append(cords)\n",
    "        coptemp,frame = plane(cords_in_plane,players_frame,players_cords,frame,model)\n",
    "        coptemp = cv2.resize(coptemp,(300,200))\n",
    "        frame[h-200:h,810:1110] = coptemp\n",
    "        cv2.imshow('frame',frame)\n",
    "        if cv2.waitKey(1)==27:\n",
    "            break\n",
    "    else:\n",
    "        break\n",
    "cap.release()\n",
    "cv2.destroyAllWindows()"
   ]
  },
  {
   "cell_type": "code",
   "execution_count": 5,
   "id": "c9c2da08",
   "metadata": {},
   "outputs": [],
   "source": []
  },
  {
   "cell_type": "code",
   "execution_count": null,
   "id": "311a3f41",
   "metadata": {},
   "outputs": [],
   "source": []
  },
  {
   "cell_type": "code",
   "execution_count": null,
   "id": "10f9dc75",
   "metadata": {},
   "outputs": [],
   "source": []
  },
  {
   "cell_type": "code",
   "execution_count": null,
   "id": "27e87bd6",
   "metadata": {},
   "outputs": [],
   "source": []
  },
  {
   "cell_type": "code",
   "execution_count": null,
   "id": "e22072ea",
   "metadata": {},
   "outputs": [],
   "source": []
  }
 ],
 "metadata": {
  "kernelspec": {
   "display_name": "Python 3 (ipykernel)",
   "language": "python",
   "name": "python3"
  },
  "language_info": {
   "codemirror_mode": {
    "name": "ipython",
    "version": 3
   },
   "file_extension": ".py",
   "mimetype": "text/x-python",
   "name": "python",
   "nbconvert_exporter": "python",
   "pygments_lexer": "ipython3",
   "version": "3.9.7"
  }
 },
 "nbformat": 4,
 "nbformat_minor": 5
}
